{
 "cells": [
  {
   "cell_type": "markdown",
   "metadata": {},
   "source": [
    "### Import packages"
   ]
  },
  {
   "cell_type": "code",
   "execution_count": 1,
   "metadata": {},
   "outputs": [],
   "source": [
    "import warnings\n",
    "warnings.filterwarnings('ignore')\n",
    "from IPython.core.interactiveshell import InteractiveShell\n",
    "InteractiveShell.ast_node_interactivity = \"all\"\n",
    "import pandas as pd\n",
    "import numpy as np\n",
    "import datetime\n",
    "from lightgbm import LGBMRegressor\n",
    "import itertools as it\n",
    "import pickle"
   ]
  },
  {
   "cell_type": "markdown",
   "metadata": {},
   "source": [
    "### 1. Read data"
   ]
  },
  {
   "cell_type": "code",
   "execution_count": 2,
   "metadata": {},
   "outputs": [],
   "source": [
    "data = pd.read_pickle(\"Data/final_data_with_mean_encoding.pkl\")"
   ]
  },
  {
   "cell_type": "markdown",
   "metadata": {},
   "source": [
    "### 2. Lists of features by groups"
   ]
  },
  {
   "cell_type": "code",
   "execution_count": 3,
   "metadata": {},
   "outputs": [],
   "source": [
    "# Identifiers\n",
    "identifiers = ['card_id','train_or_test','first_active_month']\n",
    "\n",
    "# Target\n",
    "target = 'target'\n",
    "\n",
    "# Features from original Train/Test.csv\n",
    "features_train_csv = ['feature_1','feature_2','feature_3','year','month','months_to_2018_02']\n",
    "\n",
    "# Features from all_transactions_merchants_groupby_cards\n",
    "features_transactions = [\n",
    "'month_lag__mean','month_lag__std','month_lag__min','month_lag__max','month_lag__range',\n",
    "'purchase_date__range','purchase_date__days_diff_next_purchase_mean',\n",
    "'purchase_date__days_diff_next_purchase_std','purchase_date_year__mean','purchase_date_year__std',\n",
    "'purchase_date_year__min','purchase_date_year__max','purchase_date_year__range',\n",
    "'purchase_date_month__mean','purchase_date_month__std','purchase_date_month__min',\n",
    "'purchase_date_month__max','purchase_date_month__range','purchase_date_day__mean',\n",
    "'purchase_date_day__std','purchase_date_day__min','purchase_date_day__max','purchase_date_day__range',\n",
    "'purchase_date_hour__mean','purchase_date_hour__std','purchase_date_hour__min','purchase_date_hour__max',\n",
    "'purchase_date_hour__range','purchase_date_days_to_2018_02__mean','purchase_date_days_to_2018_02__std',\n",
    "'purchase_date_days_to_2018_02__min','purchase_date_days_to_2018_02__max',\n",
    "'purchase_date_days_to_2018_02__range','authorized_flag_N__mean','authorized_flag_N__var',\n",
    "'authorized_flag_Y__mean','authorized_flag_Y__var','authorized_flag_-9999__mean',\n",
    "'authorized_flag_-9999__var','category_3_A__mean','category_3_A__var','category_3_B__mean',\n",
    "'category_3_B__var','category_3_C__mean','category_3_C__var','category_3_-9999__mean',\n",
    "'category_3_-9999__var','installments__mean','installments__std','installments__min','installments__max',\n",
    "'installments__range','category_1_N__mean','category_1_N__var','category_1_Y__mean','category_1_Y__var',\n",
    "'category_1_-9999__mean','category_1_-9999__var','merchant_category_id__nunique',\n",
    "'merchant_category_id__mode','subsector_id__nunique','subsector_id__mode','merchant_id__nunique',\n",
    "'merchant_id__mode','purchase_amount__mean','purchase_amount__std','purchase_amount__min',\n",
    "'purchase_amount__max','purchase_amount__range','city_id__nunique','city_id__mode','state_id__nunique',\n",
    "'state_id__mode','category_2_1__mean','category_2_1__var','category_2_2__mean','category_2_2__var',\n",
    "'category_2_3__mean','category_2_3__var','category_2_4__mean','category_2_4__var','category_2_5__mean',\n",
    "'category_2_5__var','category_2_-9999__mean','category_2_-9999__var',\n",
    "'merchant_group_id_merchants__nunique','merchant_group_id_merchants__mode',\n",
    "'merchant_category_id_merchants__nunique','merchant_category_id_merchants__mode',\n",
    "'subsector_id_merchants__nunique','subsector_id_merchants__mode','numerical_1_merchants__mean',\n",
    "'numerical_1_merchants__std','numerical_1_merchants__min','numerical_1_merchants__max',\n",
    "'numerical_1_merchants__range','numerical_2_merchants__mean','numerical_2_merchants__std',\n",
    "'numerical_2_merchants__min','numerical_2_merchants__max','numerical_2_merchants__range',\n",
    "'category_1_merchants_N__mean','category_1_merchants_N__var','category_1_merchants_Y__mean',\n",
    "'category_1_merchants_Y__var','category_1_merchants_-9999__mean','category_1_merchants_-9999__var',\n",
    "'most_recent_sales_range_merchants_A__mean','most_recent_sales_range_merchants_A__var',\n",
    "'most_recent_sales_range_merchants_B__mean','most_recent_sales_range_merchants_B__var',\n",
    "'most_recent_sales_range_merchants_C__mean','most_recent_sales_range_merchants_C__var',\n",
    "'most_recent_sales_range_merchants_D__mean','most_recent_sales_range_merchants_D__var',\n",
    "'most_recent_sales_range_merchants_E__mean','most_recent_sales_range_merchants_E__var',\n",
    "'most_recent_sales_range_merchants_-9999__mean','most_recent_sales_range_merchants_-9999__var',\n",
    "'most_recent_purchases_range_merchants_A__mean','most_recent_purchases_range_merchants_A__var',\n",
    "'most_recent_purchases_range_merchants_B__mean','most_recent_purchases_range_merchants_B__var',\n",
    "'most_recent_purchases_range_merchants_C__mean','most_recent_purchases_range_merchants_C__var',\n",
    "'most_recent_purchases_range_merchants_D__mean','most_recent_purchases_range_merchants_D__var',\n",
    "'most_recent_purchases_range_merchants_E__mean','most_recent_purchases_range_merchants_E__var',\n",
    "'most_recent_purchases_range_merchants_-9999__mean','most_recent_purchases_range_merchants_-9999__var',\n",
    "'avg_sales_lag3_merchants__mean','avg_sales_lag3_merchants__std','avg_sales_lag3_merchants__min',\n",
    "'avg_sales_lag3_merchants__max','avg_sales_lag3_merchants__range','avg_purchases_lag3_merchants__mean',\n",
    "'avg_purchases_lag3_merchants__std','avg_purchases_lag3_merchants__min',\n",
    "'avg_purchases_lag3_merchants__max','avg_purchases_lag3_merchants__range',\n",
    "'active_months_lag3_merchants__mean','active_months_lag3_merchants__std',\n",
    "'active_months_lag3_merchants__min','active_months_lag3_merchants__max',\n",
    "'active_months_lag3_merchants__range','avg_sales_lag6_merchants__mean','avg_sales_lag6_merchants__std',\n",
    "'avg_sales_lag6_merchants__min','avg_sales_lag6_merchants__max','avg_sales_lag6_merchants__range',\n",
    "'avg_purchases_lag6_merchants__mean','avg_purchases_lag6_merchants__std',\n",
    "'avg_purchases_lag6_merchants__min','avg_purchases_lag6_merchants__max',\n",
    "'avg_purchases_lag6_merchants__range','active_months_lag6_merchants__mean',\n",
    "'active_months_lag6_merchants__std','active_months_lag6_merchants__min',\n",
    "'active_months_lag6_merchants__max','active_months_lag6_merchants__range',\n",
    "'avg_sales_lag12_merchants__mean','avg_sales_lag12_merchants__std','avg_sales_lag12_merchants__min',\n",
    "'avg_sales_lag12_merchants__max','avg_sales_lag12_merchants__range',\n",
    "'avg_purchases_lag12_merchants__mean','avg_purchases_lag12_merchants__std',\n",
    "'avg_purchases_lag12_merchants__min','avg_purchases_lag12_merchants__max',\n",
    "'avg_purchases_lag12_merchants__range','active_months_lag12_merchants__mean',\n",
    "'active_months_lag12_merchants__std','active_months_lag12_merchants__min',\n",
    "'active_months_lag12_merchants__max','active_months_lag12_merchants__range','category_4_merchants_N__mean',\n",
    "'category_4_merchants_N__var','category_4_merchants_Y__mean','category_4_merchants_Y__var',\n",
    "'category_4_merchants_-9999__mean','category_4_merchants_-9999__var','city_id_merchants__nunique',\n",
    "'city_id_merchants__mode','state_id_merchants__nunique','state_id_merchants__mode',\n",
    "'category_2_merchants_1__mean','category_2_merchants_1__var','category_2_merchants_2__mean',\n",
    "'category_2_merchants_2__var','category_2_merchants_3__mean','category_2_merchants_3__var',\n",
    "'category_2_merchants_4__mean','category_2_merchants_4__var','category_2_merchants_5__mean',\n",
    "'category_2_merchants_5__var','category_2_merchants_-9999__mean','category_2_merchants_-9999__var']\n",
    "\n",
    "# Features from mean_encoding_all_transactions_merchants_groupby_card\n",
    "features_mean_encoding = [\n",
    "    'authorized_flag__mean_encoded','category_3__mean_encoded','category_1__mean_encoded',\n",
    "    'merchant_category_id__mean_encoded','subsector_id__mean_encoded',\n",
    "    'merchant_id__mean_encoded','city_id__mean_encoded','state_id__mean_encoded',\n",
    "    'category_2__mean_encoded','merchant_group_id_merchants__mean_encoded',\n",
    "    'merchant_category_id_merchants__mean_encoded','subsector_id_merchants__mean_encoded',\n",
    "    'category_1_merchants__mean_encoded','most_recent_sales_range_merchants__mean_encoded',\n",
    "    'most_recent_purchases_range_merchants__mean_encoded','category_4_merchants__mean_encoded',\n",
    "    'city_id_merchants__mean_encoded','state_id_merchants__mean_encoded',\n",
    "    'category_2_merchants__mean_encoded']\n",
    "\n",
    "# Features with 1 unique value that should be removed\n",
    "features_1_unique = [\n",
    "    \"purchase_date_year__min\",\"authorized_flag_-9999__mean\",\"authorized_flag_-9999__var\",\n",
    "    \"category_1_-9999__mean\",\"category_1_-9999__var\",\"active_months_lag3_merchants__max\",\n",
    "    \"active_months_lag6_merchants__max\"]\n",
    "\n",
    "# Features mode of IDs\n",
    "features_numeric_IDs_mode = [\n",
    "    'merchant_category_id__mode','subsector_id__mode','city_id__mode',\n",
    "    'state_id__mode','merchant_group_id_merchants__mode','merchant_category_id_merchants__mode',\n",
    "    'subsector_id_merchants__mode','city_id_merchants__mode','state_id_merchants__mode']\n",
    "\n",
    "features_categorical_IDs_mode = ['merchant_id__mode']"
   ]
  },
  {
   "cell_type": "markdown",
   "metadata": {},
   "source": [
    "### 3. For LGBMRegressor data must be int, float or bool"
   ]
  },
  {
   "cell_type": "markdown",
   "metadata": {},
   "source": [
    "Let's modify features type category and object except *merchant_id__mode* which is the unique ID feature no numerical, and we will simply not include it in the model."
   ]
  },
  {
   "cell_type": "code",
   "execution_count": 4,
   "metadata": {},
   "outputs": [],
   "source": [
    "features_to_modify = [\"feature_1\",\"feature_2\",\"feature_3\"]+features_numeric_IDs_mode\n",
    "for col in features_to_modify:\n",
    "    data[col] = data[col].astype('int')"
   ]
  },
  {
   "cell_type": "markdown",
   "metadata": {},
   "source": [
    "### 4. Select features for the model"
   ]
  },
  {
   "cell_type": "markdown",
   "metadata": {},
   "source": [
    "We will exclude features with 1 unique value and *merchant_id__mode*. Also, the mean encoded (since they do not give good RMSE Test results when submitting to Kaggle)."
   ]
  },
  {
   "cell_type": "code",
   "execution_count": null,
   "metadata": {},
   "outputs": [],
   "source": [
    "features = np.concatenate((features_train_csv,features_transactions,features_mean_encoding))\n",
    "features = [col for col in features if col not in features_1_unique+features_categorical_IDs_mode+\\\n",
    "            features_mean_encoding]\n",
    "features_wo_mean_encoding = features"
   ]
  },
  {
   "cell_type": "markdown",
   "metadata": {},
   "source": [
    "### 5. Target metric: RMSE"
   ]
  },
  {
   "cell_type": "code",
   "execution_count": null,
   "metadata": {},
   "outputs": [],
   "source": [
    "rmse = lambda predictions,target: np.mean((predictions-target)**2)**0.5"
   ]
  },
  {
   "cell_type": "markdown",
   "metadata": {},
   "source": [
    "### 6. Split Train into 2 validation folds"
   ]
  },
  {
   "cell_type": "markdown",
   "metadata": {},
   "source": [
    "First separate Train & Test."
   ]
  },
  {
   "cell_type": "code",
   "execution_count": null,
   "metadata": {},
   "outputs": [],
   "source": [
    "train = data.loc[data[\"train_or_test\"]==\"train\",:]\n",
    "test = data.loc[data[\"train_or_test\"]==\"test\",:]"
   ]
  },
  {
   "cell_type": "markdown",
   "metadata": {},
   "source": [
    "Then split Train into 2 validation folds."
   ]
  },
  {
   "cell_type": "code",
   "execution_count": null,
   "metadata": {},
   "outputs": [],
   "source": [
    "def folds(data,k=2,seed=1):\n",
    "    np.random.seed(seed)\n",
    "    data = data.iloc[np.random.permutation(data.index),:]\n",
    "    data_folds_list = [data.iloc[int(data.shape[0]*i/k):int(data.shape[0]*(i+1)/k),:] for i in range(k)]\n",
    "    return(data_folds_list)\n",
    "\n",
    "k = 2\n",
    "train_folds_list = folds(train,k)"
   ]
  },
  {
   "cell_type": "markdown",
   "metadata": {},
   "source": [
    "### 7. Validation with grid search"
   ]
  },
  {
   "cell_type": "markdown",
   "metadata": {},
   "source": [
    "Define all parameters combinations for grid search."
   ]
  },
  {
   "cell_type": "code",
   "execution_count": null,
   "metadata": {},
   "outputs": [],
   "source": [
    "models = {\n",
    "    'LGBM': LGBMRegressor,\n",
    "}\n",
    "\n",
    "parameters_names = {\n",
    "    'LGBM': ['num_leaves','max_depth','learning_rate','n_estimators','subsample','colsample_bytree',\n",
    "             'reg_alpha','random_state','n_jobs'],\n",
    "}\n",
    "\n",
    "parameters_values = {\n",
    "    # LGBM: num_leaves, max_depth, learning_rate, n_estimators, subsample, colsample_bytree, reg_alpha,\n",
    "    #       random_state, n_jobs\n",
    "    'LGBM': [[20,30,40],\n",
    "             [-1],\n",
    "             [0.01,0.05,0.1],\n",
    "             [100,250,500,1000],\n",
    "             [0.75,1],\n",
    "             [0.75,1],\n",
    "             [0,0.1],\n",
    "             [1],\n",
    "             [6]\n",
    "            ],\n",
    "}\n",
    "\n",
    "grid = {}\n",
    "for model in models.keys():\n",
    "    grid[model] = list(it.product(*parameters_values[model]))\n",
    "    for idx in range(len(grid[model])):\n",
    "        arguments = {}\n",
    "        for parameter_index, parameter_value in enumerate(grid[model][idx]):\n",
    "            arguments[parameters_names[model][parameter_index]] = parameter_value\n",
    "        grid[model][idx] = arguments"
   ]
  },
  {
   "cell_type": "markdown",
   "metadata": {},
   "source": [
    "Grid search: calulate the RMSE in validation splits for all parametrizations."
   ]
  },
  {
   "cell_type": "code",
   "execution_count": null,
   "metadata": {},
   "outputs": [],
   "source": [
    "InteractiveShell.ast_node_interactivity = 'none'"
   ]
  },
  {
   "cell_type": "code",
   "execution_count": null,
   "metadata": {},
   "outputs": [
    {
     "name": "stdout",
     "output_type": "stream",
     "text": [
      "Parametrization 0 for Fold_0 starts at  2019-02-19 21:03:32.027582\n",
      "and finishes at  2019-02-19 21:03:35.789516  with RMSE  3.8263715649131824 \n",
      "\n",
      "Parametrization 0 for Fold_1 starts at  2019-02-19 21:03:37.048182\n",
      "and finishes at  2019-02-19 21:03:40.793129  with RMSE  3.6943318753833587 \n",
      "\n",
      "Parametrization 1 for Fold_0 starts at  2019-02-19 21:03:42.112598\n",
      "and finishes at  2019-02-19 21:03:45.860569  with RMSE  3.8261740698799467 \n",
      "\n",
      "Parametrization 1 for Fold_1 starts at  2019-02-19 21:03:47.226950\n",
      "and finishes at  2019-02-19 21:03:51.355867  with RMSE  3.694341184401443 \n",
      "\n",
      "Parametrization 2 for Fold_0 starts at  2019-02-19 21:03:52.874804\n",
      "and finishes at  2019-02-19 21:03:57.186268  with RMSE  3.825092299438039 \n",
      "\n",
      "Parametrization 2 for Fold_1 starts at  2019-02-19 21:03:58.488784\n",
      "and finishes at  2019-02-19 21:04:02.868069  with RMSE  3.6905641590678813 \n",
      "\n",
      "Parametrization 3 for Fold_0 starts at  2019-02-19 21:04:04.171582\n",
      "and finishes at  2019-02-19 21:04:08.422209  with RMSE  3.825250323130078 \n",
      "\n",
      "Parametrization 3 for Fold_1 starts at  2019-02-19 21:04:09.722728\n",
      "and finishes at  2019-02-19 21:04:13.969366  with RMSE  3.6904396696549266 \n",
      "\n",
      "Parametrization 4 for Fold_0 starts at  2019-02-19 21:04:15.405524\n",
      "and finishes at  2019-02-19 21:04:19.206355  with RMSE  3.8263715649131824 \n",
      "\n",
      "Parametrization 4 for Fold_1 starts at  2019-02-19 21:04:20.559770\n",
      "and finishes at  2019-02-19 21:04:24.458303  with RMSE  3.6943318753833587 \n",
      "\n",
      "Parametrization 5 for Fold_0 starts at  2019-02-19 21:04:25.716972\n",
      "and finishes at  2019-02-19 21:04:29.517767  with RMSE  3.8261740698799467 \n",
      "\n",
      "Parametrization 5 for Fold_1 starts at  2019-02-19 21:04:30.718585\n",
      "and finishes at  2019-02-19 21:04:34.515396  with RMSE  3.694341184401443 \n",
      "\n",
      "Parametrization 6 for Fold_0 starts at  2019-02-19 21:04:35.973526\n",
      "and finishes at  2019-02-19 21:04:40.117409  with RMSE  3.825092299438039 \n",
      "\n",
      "Parametrization 6 for Fold_1 starts at  2019-02-19 21:04:41.350141\n",
      "and finishes at  2019-02-19 21:04:45.506988  with RMSE  3.6905641590678813 \n",
      "\n",
      "Parametrization 7 for Fold_0 starts at  2019-02-19 21:04:46.734706\n",
      "and finishes at  2019-02-19 21:04:50.820774  with RMSE  3.825250323130078 \n",
      "\n",
      "Parametrization 7 for Fold_1 starts at  2019-02-19 21:04:52.057500\n",
      "and finishes at  2019-02-19 21:04:56.139542  with RMSE  3.6904396696549266 \n",
      "\n",
      "Parametrization 8 for Fold_0 starts at  2019-02-19 21:04:57.521877\n",
      "and finishes at  2019-02-19 21:05:04.074314  with RMSE  3.7905539991706507 \n",
      "\n",
      "Parametrization 8 for Fold_1 starts at  2019-02-19 21:05:05.435671\n",
      "and finishes at  2019-02-19 21:05:11.858487  with RMSE  3.6673017325419783 \n",
      "\n",
      "Parametrization 9 for Fold_0 starts at  2019-02-19 21:05:13.132115\n",
      "and finishes at  2019-02-19 21:05:20.100436  with RMSE  3.7910898175840413 \n",
      "\n",
      "Parametrization 9 for Fold_1 starts at  2019-02-19 21:05:21.343151\n",
      "and finishes at  2019-02-19 21:05:28.179821  with RMSE  3.668363513485462 \n",
      "\n",
      "Parametrization 10 for Fold_0 starts at  2019-02-19 21:05:29.641911\n",
      "and finishes at  2019-02-19 21:05:37.388184  with RMSE  3.791242213479009 \n",
      "\n",
      "Parametrization 10 for Fold_1 starts at  2019-02-19 21:05:38.591002\n",
      "and finishes at  2019-02-19 21:05:46.065993  with RMSE  3.6659260221012664 \n",
      "\n",
      "Parametrization 11 for Fold_0 starts at  2019-02-19 21:05:47.230850\n",
      "and finishes at  2019-02-19 21:05:54.555254  with RMSE  3.7905600673519673 \n",
      "\n",
      "Parametrization 11 for Fold_1 starts at  2019-02-19 21:05:55.747102\n",
      "and finishes at  2019-02-19 21:06:03.501319  with RMSE  3.665659417626146 \n",
      "\n",
      "Parametrization 12 for Fold_0 starts at  2019-02-19 21:06:04.822822\n",
      "and finishes at  2019-02-19 21:06:11.035163  with RMSE  3.7905539991706507 \n",
      "\n",
      "Parametrization 12 for Fold_1 starts at  2019-02-19 21:06:12.226016\n",
      "and finishes at  2019-02-19 21:06:18.535097  with RMSE  3.6673017325419783 \n",
      "\n",
      "Parametrization 13 for Fold_0 starts at  2019-02-19 21:06:19.905468\n",
      "and finishes at  2019-02-19 21:06:26.323261  with RMSE  3.7910898175840413 \n",
      "\n",
      "Parametrization 13 for Fold_1 starts at  2019-02-19 21:06:27.543995\n",
      "and finishes at  2019-02-19 21:06:34.128379  with RMSE  3.668363513485462 \n",
      "\n",
      "Parametrization 14 for Fold_0 starts at  2019-02-19 21:06:35.566567\n",
      "and finishes at  2019-02-19 21:06:43.533217  with RMSE  3.791242213479009 \n",
      "\n",
      "Parametrization 14 for Fold_1 starts at  2019-02-19 21:06:44.883639\n",
      "and finishes at  2019-02-19 21:06:52.784465  with RMSE  3.6659260221012664 \n",
      "\n",
      "Parametrization 15 for Fold_0 starts at  2019-02-19 21:06:54.076046\n",
      "and finishes at  2019-02-19 21:07:01.714573  with RMSE  3.7905600673519673 \n",
      "\n",
      "Parametrization 15 for Fold_1 starts at  2019-02-19 21:07:03.039034\n",
      "and finishes at  2019-02-19 21:07:10.787304  with RMSE  3.665659417626146 \n",
      "\n",
      "Parametrization 16 for Fold_0 starts at  2019-02-19 21:07:12.128751\n",
      "and finishes at  2019-02-19 21:07:23.271902  with RMSE  3.77779001555415 \n",
      "\n",
      "Parametrization 16 for Fold_1 starts at  2019-02-19 21:07:24.595394\n",
      "and finishes at  2019-02-19 21:07:35.558032  with RMSE  3.6595343437353987 \n",
      "\n",
      "Parametrization 17 for Fold_0 starts at  2019-02-19 21:07:36.767832\n",
      "and finishes at  2019-02-19 21:07:47.814241  with RMSE  3.777744892659763 \n",
      "\n",
      "Parametrization 17 for Fold_1 starts at  2019-02-19 21:07:49.049971\n",
      "and finishes at  2019-02-19 21:07:59.910877  with RMSE  3.6601794870721656 \n",
      "\n",
      "Parametrization 18 for Fold_0 starts at  2019-02-19 21:08:01.281247\n",
      "and finishes at  2019-02-19 21:08:14.342266  with RMSE  3.780010195017187 \n",
      "\n",
      "Parametrization 18 for Fold_1 starts at  2019-02-19 21:08:15.563999\n",
      "and finishes at  2019-02-19 21:08:29.162618  with RMSE  3.6602943244781847 \n",
      "\n",
      "Parametrization 19 for Fold_0 starts at  2019-02-19 21:08:30.362441\n",
      "and finishes at  2019-02-19 21:08:43.526188  with RMSE  3.778584915455056 \n",
      "\n",
      "Parametrization 19 for Fold_1 starts at  2019-02-19 21:08:44.738978\n",
      "and finishes at  2019-02-19 21:08:58.171006  with RMSE  3.6605006258184076 \n",
      "\n",
      "Parametrization 20 for Fold_0 starts at  2019-02-19 21:08:59.564277\n",
      "and finishes at  2019-02-19 21:09:10.409262  with RMSE  3.77779001555415 \n",
      "\n",
      "Parametrization 20 for Fold_1 starts at  2019-02-19 21:09:11.696820\n",
      "and finishes at  2019-02-19 21:09:22.732293  with RMSE  3.6595343437353987 \n",
      "\n",
      "Parametrization 21 for Fold_0 starts at  2019-02-19 21:09:24.028860\n",
      "and finishes at  2019-02-19 21:09:35.550000  with RMSE  3.777744892659763 \n",
      "\n",
      "Parametrization 21 for Fold_1 starts at  2019-02-19 21:09:36.845570\n",
      "and finishes at  2019-02-19 21:09:47.939853  with RMSE  3.6601794870721656 \n",
      "\n",
      "Parametrization 22 for Fold_0 starts at  2019-02-19 21:09:49.284289\n",
      "and finishes at  2019-02-19 21:10:02.298436  with RMSE  3.780010195017187 \n",
      "\n",
      "Parametrization 22 for Fold_1 starts at  2019-02-19 21:10:03.572030\n",
      "and finishes at  2019-02-19 21:10:16.671983  with RMSE  3.6602943244781847 \n",
      "\n",
      "Parametrization 23 for Fold_0 starts at  2019-02-19 21:10:17.858806\n",
      "and finishes at  2019-02-19 21:10:31.355695  with RMSE  3.778584915455056 \n",
      "\n",
      "Parametrization 23 for Fold_1 starts at  2019-02-19 21:10:32.672174\n",
      "and finishes at  2019-02-19 21:10:46.197985  with RMSE  3.6605006258184076 \n",
      "\n",
      "Parametrization 24 for Fold_0 starts at  2019-02-19 21:10:47.550399\n",
      "and finishes at  2019-02-19 21:11:07.326457  with RMSE  3.772277151996673 \n",
      "\n",
      "Parametrization 24 for Fold_1 starts at  2019-02-19 21:11:08.552180\n",
      "and finishes at  2019-02-19 21:11:29.431318  with RMSE  3.6564029765567763 \n",
      "\n",
      "Parametrization 25 for Fold_0 starts at  2019-02-19 21:11:30.641117\n",
      "and finishes at  2019-02-19 21:11:50.601677  with RMSE  3.772987047405129 \n",
      "\n",
      "Parametrization 25 for Fold_1 starts at  2019-02-19 21:11:51.900239\n",
      "and finishes at  2019-02-19 21:12:12.047300  with RMSE  3.6576791804959683 \n",
      "\n",
      "Parametrization 26 for Fold_0 starts at  2019-02-19 21:12:13.298978\n",
      "and finishes at  2019-02-19 21:12:37.815359  with RMSE  3.7758039439032527 \n",
      "\n",
      "Parametrization 26 for Fold_1 starts at  2019-02-19 21:12:39.060061\n",
      "and finishes at  2019-02-19 21:13:04.867982  with RMSE  3.6585232275077906 \n",
      "\n",
      "Parametrization 27 for Fold_0 starts at  2019-02-19 21:13:06.201414\n",
      "and finishes at  2019-02-19 21:13:30.477466  with RMSE  3.7741557132297476 \n",
      "\n",
      "Parametrization 27 for Fold_1 starts at  2019-02-19 21:13:31.737131\n",
      "and finishes at  2019-02-19 21:13:56.844921  with RMSE  3.658934645045522 \n",
      "\n",
      "Parametrization 28 for Fold_0 starts at  2019-02-19 21:13:58.101558\n",
      "and finishes at  2019-02-19 21:14:17.871665  with RMSE  3.772277151996673 \n",
      "\n"
     ]
    },
    {
     "name": "stdout",
     "output_type": "stream",
     "text": [
      "Parametrization 28 for Fold_1 starts at  2019-02-19 21:14:19.144295\n",
      "and finishes at  2019-02-19 21:14:38.748810  with RMSE  3.6564029765567763 \n",
      "\n",
      "Parametrization 29 for Fold_0 starts at  2019-02-19 21:14:39.967585\n",
      "and finishes at  2019-02-19 21:14:59.731723  with RMSE  3.772987047405129 \n",
      "\n",
      "Parametrization 29 for Fold_1 starts at  2019-02-19 21:15:00.989368\n",
      "and finishes at  2019-02-19 21:15:20.721540  with RMSE  3.6576791804959683 \n",
      "\n",
      "Parametrization 30 for Fold_0 starts at  2019-02-19 21:15:22.026090\n",
      "and finishes at  2019-02-19 21:15:46.153498  with RMSE  3.7758039439032527 \n",
      "\n",
      "Parametrization 30 for Fold_1 starts at  2019-02-19 21:15:47.372276\n",
      "and finishes at  2019-02-19 21:16:12.099083  with RMSE  3.6585232275077906 \n",
      "\n",
      "Parametrization 31 for Fold_0 starts at  2019-02-19 21:16:13.382675\n"
     ]
    }
   ],
   "source": [
    "RMSEs = {}\n",
    "for model in models.keys():\n",
    "    RMSEs[model] = pd.DataFrame(data=None,columns=parameters_names[model]+[\"Fold_\"+str(i) for i in \\\n",
    "                                                                           range(k)]+[\"Mean\",\"Std\"])\n",
    "    for idx in range(len(grid[model])):\n",
    "        for fold in range(k):\n",
    "            # Define train and validation data for the ith fold\n",
    "            data_train = pd.concat([train_folds_list[i] for i in range(k) if i!=fold],axis=0)\n",
    "            data_val = train_folds_list[fold]        \n",
    "            x_train, y_train = data_train[features], data_train[target]\n",
    "            x_validation, y_validation = data_val[features], data_val[target]\n",
    "            # Train model\n",
    "            print(\"Parametrization \"+str(idx)+\" for Fold_\"+str(fold)+\" starts at \",\n",
    "                  datetime.datetime.now())\n",
    "            regressor = models[model](**grid[model][idx])\n",
    "            regressor.fit(x_train,y_train)\n",
    "            rmse_validation = rmse(regressor.predict(x_validation),y_validation)\n",
    "            print(\"and finishes at \",datetime.datetime.now(),\" with RMSE \",rmse_validation,\"\\n\")\n",
    "            # Add the RMSE to results\n",
    "            RMSEs[model].loc[idx,parameters_names[model]] = grid[model][idx]\n",
    "            RMSEs[model].loc[idx,\"Fold_\"+str(fold)] = rmse_validation\n",
    "        # Add the mean and std of the parametrization RMSE\n",
    "        RMSEs[model].loc[idx,\"Mean\"] = np.mean(RMSEs[model].loc[idx,[\"Fold_\"+str(i) for i in range(k)]])\n",
    "        RMSEs[model].loc[idx,\"Std\"] = np.std(RMSEs[model].loc[idx,[\"Fold_\"+str(i) for i in range(k)]])\n",
    "    # Sort the results by RMSE mean\n",
    "    RMSEs[model] = RMSEs[model].loc[np.argsort(RMSEs[model][\"Mean\"]),:]\n",
    "\n",
    "InteractiveShell.ast_node_interactivity = 'all'"
   ]
  },
  {
   "cell_type": "markdown",
   "metadata": {},
   "source": [
    "Save the validation results in a *pickle* file."
   ]
  },
  {
   "cell_type": "code",
   "execution_count": null,
   "metadata": {},
   "outputs": [],
   "source": [
    "# Sort the results by RMSE mean\n",
    "RMSEs[model] = RMSEs[model].loc[np.argsort(RMSEs[model][\"Mean\"]),:]\n",
    "pickle.dump(RMSEs,open('Validations/Results_validation_LGBM.dat','wb'))"
   ]
  },
  {
   "cell_type": "markdown",
   "metadata": {},
   "source": [
    "### 8. Train optimal model with all Train and create submission"
   ]
  },
  {
   "cell_type": "code",
   "execution_count": null,
   "metadata": {},
   "outputs": [],
   "source": [
    "RMSEs = pd.read_pickle(\"Validations/Results_validation_LGBM.dat\")"
   ]
  },
  {
   "cell_type": "code",
   "execution_count": null,
   "metadata": {},
   "outputs": [],
   "source": [
    "RMSEs[\"LGBM\"].head(5)"
   ]
  },
  {
   "cell_type": "markdown",
   "metadata": {},
   "source": [
    "#### submission_LGBMRegressor_parametrization_wo_mean_encoding.csv"
   ]
  },
  {
   "cell_type": "markdown",
   "metadata": {},
   "source": [
    "Train all chosen parametrizations with all Train data. *Note:* We will use the 5 parametrizations with lowest mean RMSE."
   ]
  },
  {
   "cell_type": "code",
   "execution_count": null,
   "metadata": {},
   "outputs": [],
   "source": [
    "InteractiveShell.ast_node_interactivity = 'none'"
   ]
  },
  {
   "cell_type": "code",
   "execution_count": null,
   "metadata": {},
   "outputs": [],
   "source": [
    "model = \"LGBM\"\n",
    "parametrization_indexes = RMSEs[model].index[0:5]\n",
    "# Define train data\n",
    "x_train, y_train = train[features_wo_mean_encoding], train[target]\n",
    "# Train model for all chosen parametrizations\n",
    "for idx in parametrization_indexes:\n",
    "    print(\"Parametrization \"+str(idx)+\" with all Train starts at \",datetime.datetime.now())\n",
    "    regressor = models[model](**grid[model][idx])\n",
    "    regressor.fit(x_train,y_train)\n",
    "    print(\"and finishes at \",datetime.datetime.now(),\"\\n\")\n",
    "    # Save model\n",
    "    pickle.dump(regressor,open('Models/Model_LGBM_parametrization'+str(idx)+'_wo_mean_encoding.dat','wb'))\n",
    "\n",
    "InteractiveShell.ast_node_interactivity = 'all'"
   ]
  },
  {
   "cell_type": "markdown",
   "metadata": {},
   "source": [
    "Predict Test data and create *.csv* file for submitting to Kaggle for all chosen parametrizations without mean encoded features."
   ]
  },
  {
   "cell_type": "code",
   "execution_count": null,
   "metadata": {},
   "outputs": [],
   "source": [
    "submission = pd.read_csv('Data/sample_submission.csv')\n",
    "print(\"Order of card_id in submission.csv OK?\",np.mean(submission[\"card_id\"].values==test[\"card_id\"].\\\n",
    "                                                       values)==1)"
   ]
  },
  {
   "cell_type": "code",
   "execution_count": null,
   "metadata": {},
   "outputs": [],
   "source": [
    "x_test = test[features_wo_mean_encoding]\n",
    "for idx in parametrization_indexes:\n",
    "    regressor = pickle.load(open('Models/Model_LGBM_parametrization'+str(idx)+'_wo_mean_encoding.dat',\\\n",
    "                                 'rb'))\n",
    "    submission[\"target\"] = regressor.predict(x_test)\n",
    "    submission.to_csv('Submissions/Submission_LGBM_parametrization'+str(idx)+'_wo_mean_encoding.csv',\n",
    "                      index=False)"
   ]
  }
 ],
 "metadata": {
  "kernelspec": {
   "display_name": "Python 3",
   "language": "python",
   "name": "python3"
  },
  "language_info": {
   "codemirror_mode": {
    "name": "ipython",
    "version": 3
   },
   "file_extension": ".py",
   "mimetype": "text/x-python",
   "name": "python",
   "nbconvert_exporter": "python",
   "pygments_lexer": "ipython3",
   "version": "3.6.8"
  }
 },
 "nbformat": 4,
 "nbformat_minor": 2
}
